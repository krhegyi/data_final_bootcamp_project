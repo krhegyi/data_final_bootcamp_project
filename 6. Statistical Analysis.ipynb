{
 "cells": [
  {
   "cell_type": "code",
   "execution_count": 1,
   "metadata": {},
   "outputs": [],
   "source": [
    "import pandas as pd\n",
    "import numpy as np\n",
    "pd.set_option('display.max_columns', None)\n",
    "import warnings\n",
    "warnings.filterwarnings('ignore')\n",
    "import matplotlib.pyplot as plt\n",
    "import seaborn as sns \n",
    "from scipy import stats\n",
    "import math"
   ]
  },
  {
   "cell_type": "code",
   "execution_count": null,
   "metadata": {},
   "outputs": [],
   "source": []
  },
  {
   "cell_type": "markdown",
   "metadata": {},
   "source": [
    "# 2 sample t-test with low-cost and moderately expensive"
   ]
  },
  {
   "cell_type": "code",
   "execution_count": 16,
   "metadata": {},
   "outputs": [
    {
     "name": "stdout",
     "output_type": "stream",
     "text": [
      "T Statistic is:  2.7080792368533255\n"
     ]
    }
   ],
   "source": [
    "\n",
    "\n",
    "sample_mean1 = 12.453\n",
    "sample_std1 = 11.27\n",
    "n1 = 684\n",
    "sample_mean2 = 11.281\n",
    "sample_std2 = 10.68\n",
    "n2 = 6183\n",
    "\n",
    "pooled_sample_std = math.sqrt(((n1-1)*sample_std1**2 + (n2-1)*sample_std2**2)/(n1+n2-2))\n",
    "statistic = (sample_mean1-sample_mean2)/(pooled_sample_std*math.sqrt((1/n1)+(1/n2)))\n",
    "print(\"T Statistic is: \", statistic)"
   ]
  },
  {
   "cell_type": "code",
   "execution_count": 17,
   "metadata": {},
   "outputs": [
    {
     "name": "stdout",
     "output_type": "stream",
     "text": [
      "P value is:  0.0033920773178541808\n",
      "Critical Value of z is:  -1.9603096047043391\n"
     ]
    }
   ],
   "source": [
    "# Using python to find the p value and critical value\n",
    "\n",
    "from scipy.stats import t\n",
    "\n",
    "print(\"P value is: \", 1- t.cdf(statistic,n1+n2-2))\n",
    "print(\"Critical Value of z is: \", t.ppf(0.025, n1+n2-2)) #alpha is 0.05"
   ]
  },
  {
   "cell_type": "markdown",
   "metadata": {},
   "source": [
    "As the Pvalue is smaller than 0,05 thus I reject the H0, so there is no significant differnece in delays betwwen the low-cost and the moderately expensive categories"
   ]
  },
  {
   "cell_type": "markdown",
   "metadata": {},
   "source": [
    "# ANOVA for comparing all 4 price ranking categories"
   ]
  },
  {
   "cell_type": "code",
   "execution_count": 33,
   "metadata": {},
   "outputs": [
    {
     "data": {
      "text/html": [
       "<div>\n",
       "<style scoped>\n",
       "    .dataframe tbody tr th:only-of-type {\n",
       "        vertical-align: middle;\n",
       "    }\n",
       "\n",
       "    .dataframe tbody tr th {\n",
       "        vertical-align: top;\n",
       "    }\n",
       "\n",
       "    .dataframe thead th {\n",
       "        text-align: right;\n",
       "    }\n",
       "</style>\n",
       "<table border=\"1\" class=\"dataframe\">\n",
       "  <thead>\n",
       "    <tr style=\"text-align: right;\">\n",
       "      <th></th>\n",
       "      <th>Price_ranking_group</th>\n",
       "      <th>Arrival_Delay</th>\n",
       "    </tr>\n",
       "  </thead>\n",
       "  <tbody>\n",
       "    <tr>\n",
       "      <th>0</th>\n",
       "      <td>3. moderately low</td>\n",
       "      <td>3</td>\n",
       "    </tr>\n",
       "    <tr>\n",
       "      <th>1</th>\n",
       "      <td>3. moderately low</td>\n",
       "      <td>3</td>\n",
       "    </tr>\n",
       "    <tr>\n",
       "      <th>2</th>\n",
       "      <td>1. expensive</td>\n",
       "      <td>3</td>\n",
       "    </tr>\n",
       "    <tr>\n",
       "      <th>3</th>\n",
       "      <td>2. moderately expensive</td>\n",
       "      <td>3</td>\n",
       "    </tr>\n",
       "    <tr>\n",
       "      <th>4</th>\n",
       "      <td>3. moderately low</td>\n",
       "      <td>3</td>\n",
       "    </tr>\n",
       "  </tbody>\n",
       "</table>\n",
       "</div>"
      ],
      "text/plain": [
       "       Price_ranking_group  Arrival_Delay\n",
       "0        3. moderately low              3\n",
       "1        3. moderately low              3\n",
       "2             1. expensive              3\n",
       "3  2. moderately expensive              3\n",
       "4        3. moderately low              3"
      ]
     },
     "execution_count": 33,
     "metadata": {},
     "output_type": "execute_result"
    }
   ],
   "source": [
    "import statsmodels.api as sm\n",
    "from statsmodels.formula.api import ols\n",
    "\n",
    "data = pd.read_excel('/Users/khegyi/Code/Bootcamp 9th final project week/flights_all_DE_cleaned.csv+ (Multiple Connections)_flights_all_DE_cleaned_Tableau.xlsm', sheet_name='only_delayed_flights')\n",
    "data.head()\n"
   ]
  },
  {
   "cell_type": "code",
   "execution_count": 41,
   "metadata": {},
   "outputs": [
    {
     "data": {
      "image/png": "[encoded data removed]",
      "text/plain": [
       "<Figure size 432x288 with 1 Axes>"
      ]
     },
     "metadata": {
      "needs_background": "light"
     },
     "output_type": "display_data"
    }
   ],
   "source": [
    "#creating boxplot\n",
    "\n",
    "ax = sns.boxplot(x='Arrival_Delay', y='Price_ranking_group', data=data, color='#99c2a2', \n",
    "                 order=['4. low-cost','3. moderately low', '2. moderately expensive', '1. expensive'])\n",
    "plt.show()"
   ]
  },
  {
   "cell_type": "code",
   "execution_count": 45,
   "metadata": {},
   "outputs": [
    {
     "name": "stdout",
     "output_type": "stream",
     "text": [
      "                             df        sum_sq      mean_sq         F    PR(>F)\n",
      "C(Price_ranking_group)      3.0  3.036750e+03  1012.250064  9.323333  0.000004\n",
      "Residual                13800.0  1.498289e+06   108.571692       NaN       NaN\n"
     ]
    }
   ],
   "source": [
    "#using python to conduct ANOVA \n",
    "model = ols('Arrival_Delay ~ C(Price_ranking_group)',data=data).fit()\n",
    "table = sm.stats.anova_lm(model)\n",
    "#table = sm.stats.anova_lm(model, typ=2)\n",
    "print(table)\n"
   ]
  },
  {
   "cell_type": "markdown",
   "metadata": {},
   "source": [
    "H0: There is no sifginficant difference in delays between the price ranking groups.\n",
    "\n",
    "As P value as far below 0,05, thus I keep the null hypothesis: in conclusion, there is significant difference in average delays between the price ranking groups, at least between 2 groups.\n",
    "\n",
    "P value = 0.000004\n",
    "    "
   ]
  },
  {
   "cell_type": "code",
   "execution_count": 51,
   "metadata": {},
   "outputs": [
    {
     "data": {
      "text/html": [
       "<div>\n",
       "<style scoped>\n",
       "    .dataframe tbody tr th:only-of-type {\n",
       "        vertical-align: middle;\n",
       "    }\n",
       "\n",
       "    .dataframe tbody tr th {\n",
       "        vertical-align: top;\n",
       "    }\n",
       "\n",
       "    .dataframe thead th {\n",
       "        text-align: right;\n",
       "    }\n",
       "</style>\n",
       "<table border=\"1\" class=\"dataframe\">\n",
       "  <thead>\n",
       "    <tr style=\"text-align: right;\">\n",
       "      <th></th>\n",
       "      <th>group1</th>\n",
       "      <th>group2</th>\n",
       "      <th>Diff</th>\n",
       "      <th>Lower</th>\n",
       "      <th>Upper</th>\n",
       "      <th>q-value</th>\n",
       "      <th>p-value</th>\n",
       "    </tr>\n",
       "  </thead>\n",
       "  <tbody>\n",
       "    <tr>\n",
       "      <th>0</th>\n",
       "      <td>3. moderately low</td>\n",
       "      <td>1. expensive</td>\n",
       "      <td>0.999764</td>\n",
       "      <td>-0.152229</td>\n",
       "      <td>2.151757</td>\n",
       "      <td>3.153429</td>\n",
       "      <td>0.115398</td>\n",
       "    </tr>\n",
       "    <tr>\n",
       "      <th>1</th>\n",
       "      <td>3. moderately low</td>\n",
       "      <td>2. moderately expensive</td>\n",
       "      <td>1.075732</td>\n",
       "      <td>0.546651</td>\n",
       "      <td>1.604813</td>\n",
       "      <td>7.387831</td>\n",
       "      <td>0.001000</td>\n",
       "    </tr>\n",
       "    <tr>\n",
       "      <th>2</th>\n",
       "      <td>3. moderately low</td>\n",
       "      <td>4. low-cost</td>\n",
       "      <td>0.635467</td>\n",
       "      <td>-0.041786</td>\n",
       "      <td>1.312720</td>\n",
       "      <td>3.409393</td>\n",
       "      <td>0.075197</td>\n",
       "    </tr>\n",
       "    <tr>\n",
       "      <th>3</th>\n",
       "      <td>1. expensive</td>\n",
       "      <td>2. moderately expensive</td>\n",
       "      <td>0.075967</td>\n",
       "      <td>-1.050360</td>\n",
       "      <td>1.202295</td>\n",
       "      <td>0.245074</td>\n",
       "      <td>0.900000</td>\n",
       "    </tr>\n",
       "    <tr>\n",
       "      <th>4</th>\n",
       "      <td>1. expensive</td>\n",
       "      <td>4. low-cost</td>\n",
       "      <td>0.364297</td>\n",
       "      <td>-0.838765</td>\n",
       "      <td>1.567360</td>\n",
       "      <td>1.100279</td>\n",
       "      <td>0.848455</td>\n",
       "    </tr>\n",
       "    <tr>\n",
       "      <th>5</th>\n",
       "      <td>2. moderately expensive</td>\n",
       "      <td>4. low-cost</td>\n",
       "      <td>0.440265</td>\n",
       "      <td>-0.192348</td>\n",
       "      <td>1.072877</td>\n",
       "      <td>2.528782</td>\n",
       "      <td>0.279218</td>\n",
       "    </tr>\n",
       "  </tbody>\n",
       "</table>\n",
       "</div>"
      ],
      "text/plain": [
       "                    group1                   group2      Diff     Lower  \\\n",
       "0        3. moderately low             1. expensive  0.999764 -0.152229   \n",
       "1        3. moderately low  2. moderately expensive  1.075732  0.546651   \n",
       "2        3. moderately low              4. low-cost  0.635467 -0.041786   \n",
       "3             1. expensive  2. moderately expensive  0.075967 -1.050360   \n",
       "4             1. expensive              4. low-cost  0.364297 -0.838765   \n",
       "5  2. moderately expensive              4. low-cost  0.440265 -0.192348   \n",
       "\n",
       "      Upper   q-value   p-value  \n",
       "0  2.151757  3.153429  0.115398  \n",
       "1  1.604813  7.387831  0.001000  \n",
       "2  1.312720  3.409393  0.075197  \n",
       "3  1.202295  0.245074  0.900000  \n",
       "4  1.567360  1.100279  0.848455  \n",
       "5  1.072877  2.528782  0.279218  "
      ]
     },
     "execution_count": 51,
     "metadata": {},
     "output_type": "execute_result"
    }
   ],
   "source": [
    "#checking differences and p value on each category\n",
    "\n",
    "from bioinfokit.analys import stat\n",
    "\n",
    "res = stat()\n",
    "res.tukey_hsd(df=data, res_var='Arrival_Delay', xfac_var='Price_ranking_group', \n",
    "              anova_model='Arrival_Delay ~ C(Price_ranking_group)')\n",
    "res.tukey_summary"
   ]
  },
  {
   "cell_type": "markdown",
   "metadata": {},
   "source": [
    "As all the p values are more than 0.05, we keep the null hypothesis: there is no significant difference in delays.\n",
    "\n",
    "The only exception is between the 2. and the 3. category, where p value is lower then 0,05, so we reject the null hypothesis.\n",
    "\n",
    "Based on the analysis between the 2. and the 3. category there is a significant difference in flight delays. \n",
    "The 2. category delays more."
   ]
  }
 ],
 "metadata": {
  "kernelspec": {
   "display_name": "Python 3",
   "language": "python",
   "name": "python3"
  },
  "language_info": {
   "codemirror_mode": {
    "name": "ipython",
    "version": 3
   },
   "file_extension": ".py",
   "mimetype": "text/x-python",
   "name": "python",
   "nbconvert_exporter": "python",
   "pygments_lexer": "ipython3",
   "version": "3.8.5"
  }
 },
 "nbformat": 4,
 "nbformat_minor": 4
}
