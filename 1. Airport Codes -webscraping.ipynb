{
 "cells": [
  {
   "cell_type": "markdown",
   "metadata": {},
   "source": [
    "The aim of this notebook is to scrape all the european airports (IATA code list), which defines which flight data I would like to have from the historical flight API (see historical flight API notebook)"
   ]
  },
  {
   "cell_type": "code",
   "execution_count": 6,
   "metadata": {},
   "outputs": [],
   "source": [
    "import requests\n",
    "import pandas as pd\n",
    "from bs4 import BeautifulSoup"
   ]
  },
  {
   "cell_type": "code",
   "execution_count": 4,
   "metadata": {},
   "outputs": [
    {
     "data": {
      "text/plain": [
       "200"
      ]
     },
     "execution_count": 4,
     "metadata": {},
     "output_type": "execute_result"
    }
   ],
   "source": [
    "url = 'https://airportcodes.io/en/continent/europe/'\n",
    "response = requests.get(url)\n",
    "response.status_code"
   ]
  },
  {
   "cell_type": "code",
   "execution_count": 7,
   "metadata": {},
   "outputs": [],
   "source": [
    "soup = BeautifulSoup(response.content, \"html.parser\")"
   ]
  },
  {
   "cell_type": "code",
   "execution_count": 13,
   "metadata": {},
   "outputs": [
    {
     "data": {
      "text/plain": [
       "[<td>AAL</td>]"
      ]
     },
     "execution_count": 13,
     "metadata": {},
     "output_type": "execute_result"
    }
   ],
   "source": [
    "soup.select('#content > article > div > div > section:nth-child(3) > div > div > table > tbody > tr:nth-child(1) > td:nth-child(2)')\n",
    "             \n",
    "             \n",
    "             "
   ]
  },
  {
   "cell_type": "code",
   "execution_count": null,
   "metadata": {},
   "outputs": [],
   "source": [
    "soup.select(\"td:nth-child(2)\")"
   ]
  },
  {
   "cell_type": "code",
   "execution_count": 15,
   "metadata": {},
   "outputs": [
    {
     "data": {
      "text/plain": [
       "'AAL'"
      ]
     },
     "execution_count": 15,
     "metadata": {},
     "output_type": "execute_result"
    }
   ],
   "source": [
    "soup.select(\"td:nth-child(2)\")[0].get_text()"
   ]
  },
  {
   "cell_type": "code",
   "execution_count": null,
   "metadata": {},
   "outputs": [],
   "source": [
    "iata_list = []\n",
    "#num_iter = len(soup.select(\"td:nth-child(2)\"))\n",
    "for i in range(159):\n",
    "    iata_list.append(soup.select(\"td:nth-child(2)\")[i].get_text())\n",
    "iata_list"
   ]
  },
  {
   "cell_type": "code",
   "execution_count": 39,
   "metadata": {},
   "outputs": [
    {
     "data": {
      "text/html": [
       "<div>\n",
       "<style scoped>\n",
       "    .dataframe tbody tr th:only-of-type {\n",
       "        vertical-align: middle;\n",
       "    }\n",
       "\n",
       "    .dataframe tbody tr th {\n",
       "        vertical-align: top;\n",
       "    }\n",
       "\n",
       "    .dataframe thead th {\n",
       "        text-align: right;\n",
       "    }\n",
       "</style>\n",
       "<table border=\"1\" class=\"dataframe\">\n",
       "  <thead>\n",
       "    <tr style=\"text-align: right;\">\n",
       "      <th></th>\n",
       "      <th>IATA_code</th>\n",
       "    </tr>\n",
       "  </thead>\n",
       "  <tbody>\n",
       "    <tr>\n",
       "      <th>0</th>\n",
       "      <td>AAL</td>\n",
       "    </tr>\n",
       "    <tr>\n",
       "      <th>1</th>\n",
       "      <td>ABZ</td>\n",
       "    </tr>\n",
       "    <tr>\n",
       "      <th>2</th>\n",
       "      <td>MAD</td>\n",
       "    </tr>\n",
       "    <tr>\n",
       "      <th>3</th>\n",
       "      <td>ALC</td>\n",
       "    </tr>\n",
       "    <tr>\n",
       "      <th>4</th>\n",
       "      <td>AMS</td>\n",
       "    </tr>\n",
       "    <tr>\n",
       "      <th>...</th>\n",
       "      <td>...</td>\n",
       "    </tr>\n",
       "    <tr>\n",
       "      <th>154</th>\n",
       "      <td>WAW</td>\n",
       "    </tr>\n",
       "    <tr>\n",
       "      <th>155</th>\n",
       "      <td>KJA</td>\n",
       "    </tr>\n",
       "    <tr>\n",
       "      <th>156</th>\n",
       "      <td>ZAG</td>\n",
       "    </tr>\n",
       "    <tr>\n",
       "      <th>157</th>\n",
       "      <td>ZIA</td>\n",
       "    </tr>\n",
       "    <tr>\n",
       "      <th>158</th>\n",
       "      <td>ZRH</td>\n",
       "    </tr>\n",
       "  </tbody>\n",
       "</table>\n",
       "<p>159 rows × 1 columns</p>\n",
       "</div>"
      ],
      "text/plain": [
       "    IATA_code\n",
       "0         AAL\n",
       "1         ABZ\n",
       "2         MAD\n",
       "3         ALC\n",
       "4         AMS\n",
       "..        ...\n",
       "154       WAW\n",
       "155       KJA\n",
       "156       ZAG\n",
       "157       ZIA\n",
       "158       ZRH\n",
       "\n",
       "[159 rows x 1 columns]"
      ]
     },
     "execution_count": 39,
     "metadata": {},
     "output_type": "execute_result"
    }
   ],
   "source": [
    "df = pd.DataFrame({\"IATA_code\":iata_list})\n",
    "df"
   ]
  },
  {
   "cell_type": "code",
   "execution_count": null,
   "metadata": {},
   "outputs": [],
   "source": []
  },
  {
   "cell_type": "code",
   "execution_count": 40,
   "metadata": {},
   "outputs": [
    {
     "data": {
      "text/plain": [
       "array(['AAL', 'ABZ', 'MAD', 'ALC', 'AMS', '', 'BCN', 'BRI', 'BFS', 'BEG',\n",
       "       'BGO', 'SXF', 'TXL', 'BLL', 'BHX', 'BOO', 'BLQ', 'BOD', 'KBP',\n",
       "       'BOH', 'BRE', 'BRS', 'BRU', 'CRL', 'BUD', 'BOJ', 'CAG', 'CWL',\n",
       "       'CTA', 'CDG', 'CIA', 'CGN', 'CPH', 'WRO', 'ORK', 'DME', 'DTM',\n",
       "       'DRS', 'DUB', 'DUS', 'EMA', 'EDI', 'EIN', 'ATH', 'BSL', 'EXT',\n",
       "       'PMO', 'FAO', 'OPO', 'FRA', 'GDN', 'GVA', 'GOA', 'BHD', 'GLA',\n",
       "       'GOT', 'LPA', 'GRV', 'HAM', 'HAJ', 'HEL', 'OTP', 'HER', 'LIS',\n",
       "       'BGY', 'PDL', 'FKB', 'KTW', 'KZN', 'KEF', 'HRK', 'KRK', 'KUF',\n",
       "       'SPC', 'TER', 'LBA', 'LEJ', 'TLL', 'FCO', 'LGG', 'LPL', 'LJU',\n",
       "       'LGW', 'LHR', 'LTN', 'STN', 'LLA', 'LUX', 'LYS', 'BTS', 'AGP',\n",
       "       'MMX', 'MXP', 'MLA', 'MAN', 'MRS', 'LIN', 'MSQ', 'WMI', 'MUC',\n",
       "       'FMO', 'NAP', 'NCL', 'NCE', 'NWI', 'NUE', 'ODS', 'OSL', 'PMI',\n",
       "       'ORY', 'PSA', 'ROV', 'TGD', 'POZ', 'PRN', 'LED', 'AKT', 'BZZ',\n",
       "       'FFD', 'LKZ', 'MHZ', 'RMS', 'RIX', 'DSA', 'SCQ', 'SJJ', 'SNN',\n",
       "       'SVO', 'SIP', 'SKP', 'AER', 'SOF', 'SOU', 'SVG', 'ARN', 'STR',\n",
       "       'TFN', 'TFS', 'SKG', 'TIA', 'TLS', 'TSF', 'TOS', 'TRD', 'TRN',\n",
       "       'UFA', 'PRG', 'VAR', 'VCE', 'VRN', 'VIE', 'VNO', 'VKO', 'WAW',\n",
       "       'KJA', 'ZAG', 'ZIA', 'ZRH'], dtype=object)"
      ]
     },
     "execution_count": 40,
     "metadata": {},
     "output_type": "execute_result"
    }
   ],
   "source": [
    "df.IATA_code.unique()"
   ]
  },
  {
   "cell_type": "code",
   "execution_count": null,
   "metadata": {},
   "outputs": [],
   "source": []
  },
  {
   "cell_type": "code",
   "execution_count": null,
   "metadata": {},
   "outputs": [],
   "source": []
  },
  {
   "cell_type": "code",
   "execution_count": null,
   "metadata": {},
   "outputs": [],
   "source": []
  }
 ],
 "metadata": {
  "kernelspec": {
   "display_name": "Python 3",
   "language": "python",
   "name": "python3"
  },
  "language_info": {
   "codemirror_mode": {
    "name": "ipython",
    "version": 3
   },
   "file_extension": ".py",
   "mimetype": "text/x-python",
   "name": "python",
   "nbconvert_exporter": "python",
   "pygments_lexer": "ipython3",
   "version": "3.8.5"
  }
 },
 "nbformat": 4,
 "nbformat_minor": 4
}
